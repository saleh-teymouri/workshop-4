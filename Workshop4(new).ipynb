{
 "cells": [
  {
   "cell_type": "code",
   "execution_count": 7,
   "metadata": {},
   "outputs": [
    {
     "name": "stdout",
     "output_type": "stream",
     "text": [
      "Populating the interactive namespace from numpy and matplotlib\n"
     ]
    }
   ],
   "source": [
    "%pylab inline\n",
    "import sim as vrep\n",
    "import time\n",
    "import cv2\n",
    "import numpy as np"
   ]
  },
  {
   "cell_type": "code",
   "execution_count": 8,
   "metadata": {},
   "outputs": [
    {
     "data": {
      "image/png": "[encoded data removed]",
      "text/plain": [
       "<Figure size 432x288 with 1 Axes>"
      ]
     },
     "metadata": {
      "needs_background": "light"
     },
     "output_type": "display_data"
    }
   ],
   "source": [
    "# Tha map is 20x20 sq meters\n",
    "#Lets define a grid of nxn\n",
    "n = 20\n",
    "gmap = zeros(n*n) # the map is a grid of nxn\n",
    "\n",
    "# x and y coordinates for the grid cells. Lowest and leftest point in the cell.\n",
    "cell_w = 1\n",
    "grid_x, grid_y = np.mgrid[-n/2:n/2:cell_w,-n/2:n/2:cell_w]\n",
    "# Convert the matrix into a vector\n",
    "grid_x = grid_x.flatten()\n",
    "grid_y = grid_y.flatten()\n",
    "\n",
    "# Computes the four points of the square that composes a cell\n",
    "def points_cell(x, y, d):    \n",
    "    X = [x, x+d, x+d, x]\n",
    "    Y = [y, y, y+d, y+d]\n",
    "    return X, Y\n",
    "\n",
    "fig = plt.figure()\n",
    "ax = fig.add_subplot(111, aspect='equal')\n",
    "# plot each cell\n",
    "for x, y in zip(grid_x, grid_y):\n",
    "    X, Y = points_cell(x, y, cell_w)\n",
    "    cell = plt.Polygon([(xi, yi) for xi, yi in zip(X,Y)], color='0.9')\n",
    "    \n",
    "    ax.add_patch(cell)\n",
    "\n",
    "    plot(X,Y, 'k-')\n",
    "    plot(X,Y, 'b+')    \n",
    "    \n",
    "fig.canvas.draw()"
   ]
  },
  {
   "cell_type": "code",
   "execution_count": 9,
   "metadata": {},
   "outputs": [],
   "source": [
    "def detect_and_store_circles(img, euler):\n",
    "    gray = cv2.cvtColor(img, cv2.COLOR_BGR2GRAY)\n",
    "    gray = cv2.medianBlur(gray,5)\n",
    "    circles = cv2.HoughCircles(gray, cv2.HOUGH_GRADIENT, 1, gray.shape[0] / 8,\n",
    "                               param1=30,param2=15,minRadius=10,maxRadius=0)\n",
    "    for circle in circles[0, :]:\n",
    "        arr_circle.append([circle, euler[2]])\n",
    "\n",
    "def compute(arr_circle):\n",
    "    u0, v0 = 132, 132\n",
    "    l0 = (0.3/(1-0.3))  # Initial belief\n",
    "    gmap = l0 * ones(n*n) # Initial belief      \n",
    "    for circle in arr_circle :\n",
    "        center = (circle[0][0], circle[0][1])\n",
    "        radius = circle[0][2]\n",
    "        k = radius / (1.5 / 2)  # Pixels per meters (radius in pixels / radius in  meters)\n",
    "        fov = 60  # degrees\n",
    "        npx = 264 # number of pixels in x-axis\n",
    "        xmax = npx / (2.* k) # maximum value in the x-axis (in meters)\n",
    "        zc = xmax / tan(pi/6) # Distance to the center of the sphere (z-axis coordinate)\n",
    "        xc = (center[0] - u0) / k # Location of the sphere in the x-axis coordinate\n",
    "        xc, zc\n",
    "        alpha = circle[1] - pi/2\n",
    "        r = np.array(( (np.cos(alpha), -np.sin(alpha)),\n",
    "               (np.sin(alpha),  np.cos(alpha)) ))\n",
    "        v = np.array((xc,zc))\n",
    "        xc, zc = r.dot(v)\n",
    "        # For each cell, check if the circle is in it.\n",
    "        for i in range(n*n):\n",
    "            x, y = grid_x[i], grid_y[i]\n",
    "            #TODO Run this for each sphere (center and radius)\n",
    "            # Corners of the cell\n",
    "            X, Y = points_cell(x, y, cell_w)\n",
    "            # check based on the ecuclidean distance\n",
    "            dist = sqrt((xc - X)**2 + (zc - Y)**2)\n",
    "            # Check if At least one of the borders is within the sphere\n",
    "            if((dist < radius/k).any()):\n",
    "                po = 0.8  # P(mi/zt) probability of having an obstacle \n",
    "                li = log(po / (1-po)) + gmap[i] - l0\n",
    "                gmap[i] = li  # P(mi/zt) \n",
    "            else:\n",
    "                po = 0.05  # P(mi/zt) probability of having an obstacle given a non-detected obstacle\n",
    "                # Cells within the fov. Check if the four points are withing the FOV\n",
    "#                 thetas = np.arctan2(Y,X) - circle[1]\n",
    "#                 if np.logical_and(-pi/6 <thetas, thetas < pi/6).all():\n",
    "#                     li = log(po / (1-po)) + gmap[i] - l0\n",
    "#                     gmap[i] = li\n",
    "                pass\n",
    "    return gmap"
   ]
  },
  {
   "cell_type": "code",
   "execution_count": 10,
   "metadata": {},
   "outputs": [
    {
     "name": "stdout",
     "output_type": "stream",
     "text": [
      "no image yet\n",
      "image 0 OK!!!\n",
      "image 1 OK!!!\n",
      "image 2 OK!!!\n",
      "image 3 OK!!!\n",
      "image 4 OK!!!\n",
      "image 5 OK!!!\n",
      "image 6 OK!!!\n",
      "image 7 OK!!!\n",
      "image 8 OK!!!\n",
      "image 9 OK!!!\n"
     ]
    }
   ],
   "source": [
    "vrep.simxFinish(-1)\n",
    "\n",
    "clientID = vrep.simxStart('127.0.0.1', 19999, True, True, 5000, 5)\n",
    "\n",
    "if clientID!=-1:\n",
    "    res, v1 = vrep.simxGetObjectHandle(clientID, 'Vision_sensor', vrep.simx_opmode_oneshot_wait)\n",
    "    res, r1 = vrep.simxGetObjectHandle(clientID, 'Pioneer_p3dx', vrep.simx_opmode_oneshot_wait)\n",
    "    err, resolution, image = vrep.simxGetVisionSensorImage(clientID, v1, 0, vrep.simx_opmode_streaming)\n",
    "    p = 10  # Take p pictures\n",
    "    i = 0\n",
    "    arr_circle = []\n",
    "    while i < p:     \n",
    "        err, resolution, image = vrep.simxGetVisionSensorImage(clientID, v1, 0, vrep.simx_opmode_buffer)\n",
    "        res, euler = vrep.simxGetObjectOrientation(clientID, r1, -1, vrep.simx_opmode_streaming)\n",
    "        if err == vrep.simx_return_ok:\n",
    "            print (\"image %d OK!!!\"%i)\n",
    "            img = np.array(image,dtype=np.uint8)\n",
    "            img.resize([resolution[1],resolution[0],3])\n",
    "            detect_and_store_circles(img, euler)\n",
    "            i+=1\n",
    "        elif err == vrep.simx_return_novalue_flag:\n",
    "            print (\"no image yet\")\n",
    "            pass\n",
    "        else:\n",
    "              print (err)\n",
    "        time.sleep(5)\n",
    "else:\n",
    "    print (\"Failed to connect to remote API Server\")\n",
    "    vrep.simxFinish(clientID)"
   ]
  },
  {
   "cell_type": "code",
   "execution_count": 11,
   "metadata": {},
   "outputs": [
    {
     "data": {
      "text/plain": [
       "[[array([114.5, 149.5,  46.3], dtype=float32), 1.5013176202774048],\n",
       " [array([183.5, 138.5,  26.3], dtype=float32), 0.9776389002799988],\n",
       " [array([249.5, 153.5,  60.7], dtype=float32), 0.5118836760520935],\n",
       " [array([ 76.5, 140.5,  24.9], dtype=float32), 0.5118836760520935],\n",
       " [array([123.5, 151.5,  53.3], dtype=float32), -0.016160568222403526],\n",
       " [array([125.5, 139.5,  28.4], dtype=float32), -0.5767226219177246],\n",
       " [array([195.5, 137.5,  23.5], dtype=float32), -1.0436153411865234],\n",
       " [array([ 12.5, 136.5,  37.3], dtype=float32), -1.0436153411865234],\n",
       " [array([ 67.5, 137.5,  23.5], dtype=float32), -1.6050808429718018],\n",
       " [array([255.5, 162.5,  27.7], dtype=float32), -1.6050808429718018],\n",
       " [array([106.5, 146.5,  38.6], dtype=float32), -2.263399600982666],\n",
       " [array([157.5, 136.5,  22.9], dtype=float32), -2.263399600982666],\n",
       " [array([231.5, 141.5,  32.1], dtype=float32), -2.837218999862671],\n",
       " [array([ 23.5, 140.5,  27.8], dtype=float32), -2.837218999862671],\n",
       " [array([ 64.5, 142.5,  33. ], dtype=float32), 2.716639280319214],\n",
       " [array([240.5, 141.5,  30.9], dtype=float32), 2.716639280319214]]"
      ]
     },
     "execution_count": 11,
     "metadata": {},
     "output_type": "execute_result"
    }
   ],
   "source": [
    "arr_circle"
   ]
  },
  {
   "cell_type": "code",
   "execution_count": 12,
   "metadata": {},
   "outputs": [
    {
     "data": {
      "image/png": "[encoded data removed]",
      "text/plain": [
       "<Figure size 432x288 with 1 Axes>"
      ]
     },
     "metadata": {
      "needs_background": "light"
     },
     "output_type": "display_data"
    }
   ],
   "source": [
    "gmap = compute(arr_circle)\n",
    "fig = plt.figure()\n",
    "ax = fig.add_subplot(111, aspect='equal')\n",
    "# normalize gmap\n",
    "gmap = gmap - min(gmap)\n",
    "gmap = gmap / max(gmap)\n",
    "for c, x, y in zip(gmap, grid_x, grid_y):\n",
    "    X, Y = points_cell(x, y, cell_w)\n",
    "    cell = plt.Polygon([(xi, yi) for xi, yi in zip(X,Y)], color='%f'%(1-c))\n",
    "    ax.add_patch(cell)\n",
    "    plot(X,Y, 'k-')\n",
    "    plot(X,Y, 'b+')    \n",
    "    plot(0,0, 'go')\n",
    "    # plot each cell\n",
    "    fig.canvas.draw() "
   ]
  }
 ],
 "metadata": {
  "kernelspec": {
   "display_name": "Python 3",
   "language": "python",
   "name": "python3"
  },
  "language_info": {
   "codemirror_mode": {
    "name": "ipython",
    "version": 3
   },
   "file_extension": ".py",
   "mimetype": "text/x-python",
   "name": "python",
   "nbconvert_exporter": "python",
   "pygments_lexer": "ipython3",
   "version": "3.8.5"
  }
 },
 "nbformat": 4,
 "nbformat_minor": 4
}
